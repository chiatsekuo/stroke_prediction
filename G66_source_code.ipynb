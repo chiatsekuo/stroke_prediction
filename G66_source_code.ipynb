{
 "cells": [
  {
   "cell_type": "markdown",
   "metadata": {
    "id": "Tvrr0_izq80D"
   },
   "source": [
    "# G66 Stroke prediction"
   ]
  },
  {
   "cell_type": "code",
   "execution_count": 1,
   "metadata": {
    "colab": {
     "base_uri": "https://localhost:8080/"
    },
    "executionInfo": {
     "elapsed": 3864,
     "status": "ok",
     "timestamp": 1617537586793,
     "user": {
      "displayName": "ChiaTse Kuo",
      "photoUrl": "https://lh4.googleusercontent.com/-cGz4YbBU-wg/AAAAAAAAAAI/AAAAAAAACWo/rlsiD25gLug/s64/photo.jpg",
      "userId": "05542254067765630438"
     },
     "user_tz": -480
    },
    "id": "PFCXYBOCMj3r",
    "outputId": "2313eac0-6636-4e10-9eba-28518444c2e1"
   },
   "outputs": [
    {
     "name": "stdout",
     "output_type": "stream",
     "text": [
      "Requirement already satisfied: scikit-learn in c:\\users\\chiatsekuo\\miniconda3\\lib\\site-packages (0.24.1)\n",
      "Requirement already satisfied: threadpoolctl>=2.0.0 in c:\\users\\chiatsekuo\\miniconda3\\lib\\site-packages (from scikit-learn) (2.1.0)\n",
      "Requirement already satisfied: scipy>=0.19.1 in c:\\users\\chiatsekuo\\miniconda3\\lib\\site-packages (from scikit-learn) (1.4.1)\n",
      "Requirement already satisfied: numpy>=1.13.3 in c:\\users\\chiatsekuo\\miniconda3\\lib\\site-packages (from scikit-learn) (1.19.2)\n",
      "Requirement already satisfied: joblib>=0.11 in c:\\users\\chiatsekuo\\miniconda3\\lib\\site-packages (from scikit-learn) (0.16.0)\n"
     ]
    }
   ],
   "source": [
    "!pip install -U scikit-learn"
   ]
  },
  {
   "cell_type": "code",
   "execution_count": 2,
   "metadata": {
    "colab": {
     "base_uri": "https://localhost:8080/"
    },
    "executionInfo": {
     "elapsed": 3861,
     "status": "ok",
     "timestamp": 1617537586794,
     "user": {
      "displayName": "ChiaTse Kuo",
      "photoUrl": "https://lh4.googleusercontent.com/-cGz4YbBU-wg/AAAAAAAAAAI/AAAAAAAACWo/rlsiD25gLug/s64/photo.jpg",
      "userId": "05542254067765630438"
     },
     "user_tz": -480
    },
    "id": "cqgYh67a3pV9",
    "outputId": "027cecac-92fe-4ec3-8048-10ddc2ed2638"
   },
   "outputs": [],
   "source": [
    "# from google.colab import drive\n",
    "# drive.mount('/content/drive')"
   ]
  },
  {
   "cell_type": "code",
   "execution_count": 56,
   "metadata": {
    "executionInfo": {
     "elapsed": 4235,
     "status": "ok",
     "timestamp": 1617537587172,
     "user": {
      "displayName": "ChiaTse Kuo",
      "photoUrl": "https://lh4.googleusercontent.com/-cGz4YbBU-wg/AAAAAAAAAAI/AAAAAAAACWo/rlsiD25gLug/s64/photo.jpg",
      "userId": "05542254067765630438"
     },
     "user_tz": -480
    },
    "id": "TxFNQL785DW3"
   },
   "outputs": [],
   "source": [
    "import pandas as pd\n",
    "import missingno as msno\n",
    "import matplotlib.pyplot as plt\n",
    "from sklearn.preprocessing import LabelEncoder\n",
    "from sklearn.model_selection import train_test_split\n",
    "from sklearn import *"
   ]
  },
  {
   "cell_type": "code",
   "execution_count": 4,
   "metadata": {
    "colab": {
     "base_uri": "https://localhost:8080/"
    },
    "executionInfo": {
     "elapsed": 4233,
     "status": "ok",
     "timestamp": 1617537587172,
     "user": {
      "displayName": "ChiaTse Kuo",
      "photoUrl": "https://lh4.googleusercontent.com/-cGz4YbBU-wg/AAAAAAAAAAI/AAAAAAAACWo/rlsiD25gLug/s64/photo.jpg",
      "userId": "05542254067765630438"
     },
     "user_tz": -480
    },
    "id": "xWbPgktA46bM",
    "outputId": "d5913333-8230-4bb1-ab10-ca874b553f17"
   },
   "outputs": [
    {
     "name": "stdout",
     "output_type": "stream",
     "text": [
      "<class 'pandas.core.frame.DataFrame'>\n",
      "RangeIndex: 5110 entries, 0 to 5109\n",
      "Data columns (total 12 columns):\n",
      " #   Column             Non-Null Count  Dtype  \n",
      "---  ------             --------------  -----  \n",
      " 0   id                 5110 non-null   int64  \n",
      " 1   gender             5110 non-null   object \n",
      " 2   age                5110 non-null   float64\n",
      " 3   hypertension       5110 non-null   int64  \n",
      " 4   heart_disease      5110 non-null   int64  \n",
      " 5   ever_married       5110 non-null   object \n",
      " 6   work_type          5110 non-null   object \n",
      " 7   Residence_type     5110 non-null   object \n",
      " 8   avg_glucose_level  5110 non-null   float64\n",
      " 9   bmi                4909 non-null   float64\n",
      " 10  smoking_status     5110 non-null   object \n",
      " 11  stroke             5110 non-null   int64  \n",
      "dtypes: float64(3), int64(4), object(5)\n",
      "memory usage: 479.2+ KB\n"
     ]
    }
   ],
   "source": [
    "healthInfo = pd.read_csv(\"healthcare-dataset-stroke-data.csv\",sep = ',')\n",
    "healthInfo.info()"
   ]
  },
  {
   "cell_type": "code",
   "execution_count": 5,
   "metadata": {
    "colab": {
     "base_uri": "https://localhost:8080/",
     "height": 202
    },
    "executionInfo": {
     "elapsed": 4230,
     "status": "ok",
     "timestamp": 1617537587173,
     "user": {
      "displayName": "ChiaTse Kuo",
      "photoUrl": "https://lh4.googleusercontent.com/-cGz4YbBU-wg/AAAAAAAAAAI/AAAAAAAACWo/rlsiD25gLug/s64/photo.jpg",
      "userId": "05542254067765630438"
     },
     "user_tz": -480
    },
    "id": "zie7_dQj6mdm",
    "outputId": "f5be6139-c6e2-41ac-dc06-7441995606bb"
   },
   "outputs": [
    {
     "data": {
      "text/html": [
       "<div>\n",
       "<style scoped>\n",
       "    .dataframe tbody tr th:only-of-type {\n",
       "        vertical-align: middle;\n",
       "    }\n",
       "\n",
       "    .dataframe tbody tr th {\n",
       "        vertical-align: top;\n",
       "    }\n",
       "\n",
       "    .dataframe thead th {\n",
       "        text-align: right;\n",
       "    }\n",
       "</style>\n",
       "<table border=\"1\" class=\"dataframe\">\n",
       "  <thead>\n",
       "    <tr style=\"text-align: right;\">\n",
       "      <th></th>\n",
       "      <th>id</th>\n",
       "      <th>gender</th>\n",
       "      <th>age</th>\n",
       "      <th>hypertension</th>\n",
       "      <th>heart_disease</th>\n",
       "      <th>ever_married</th>\n",
       "      <th>work_type</th>\n",
       "      <th>Residence_type</th>\n",
       "      <th>avg_glucose_level</th>\n",
       "      <th>bmi</th>\n",
       "      <th>smoking_status</th>\n",
       "      <th>stroke</th>\n",
       "    </tr>\n",
       "  </thead>\n",
       "  <tbody>\n",
       "    <tr>\n",
       "      <th>0</th>\n",
       "      <td>9046</td>\n",
       "      <td>Male</td>\n",
       "      <td>67.0</td>\n",
       "      <td>0</td>\n",
       "      <td>1</td>\n",
       "      <td>Yes</td>\n",
       "      <td>Private</td>\n",
       "      <td>Urban</td>\n",
       "      <td>228.69</td>\n",
       "      <td>36.6</td>\n",
       "      <td>formerly smoked</td>\n",
       "      <td>1</td>\n",
       "    </tr>\n",
       "    <tr>\n",
       "      <th>1</th>\n",
       "      <td>51676</td>\n",
       "      <td>Female</td>\n",
       "      <td>61.0</td>\n",
       "      <td>0</td>\n",
       "      <td>0</td>\n",
       "      <td>Yes</td>\n",
       "      <td>Self-employed</td>\n",
       "      <td>Rural</td>\n",
       "      <td>202.21</td>\n",
       "      <td>NaN</td>\n",
       "      <td>never smoked</td>\n",
       "      <td>1</td>\n",
       "    </tr>\n",
       "    <tr>\n",
       "      <th>2</th>\n",
       "      <td>31112</td>\n",
       "      <td>Male</td>\n",
       "      <td>80.0</td>\n",
       "      <td>0</td>\n",
       "      <td>1</td>\n",
       "      <td>Yes</td>\n",
       "      <td>Private</td>\n",
       "      <td>Rural</td>\n",
       "      <td>105.92</td>\n",
       "      <td>32.5</td>\n",
       "      <td>never smoked</td>\n",
       "      <td>1</td>\n",
       "    </tr>\n",
       "    <tr>\n",
       "      <th>3</th>\n",
       "      <td>60182</td>\n",
       "      <td>Female</td>\n",
       "      <td>49.0</td>\n",
       "      <td>0</td>\n",
       "      <td>0</td>\n",
       "      <td>Yes</td>\n",
       "      <td>Private</td>\n",
       "      <td>Urban</td>\n",
       "      <td>171.23</td>\n",
       "      <td>34.4</td>\n",
       "      <td>smokes</td>\n",
       "      <td>1</td>\n",
       "    </tr>\n",
       "    <tr>\n",
       "      <th>4</th>\n",
       "      <td>1665</td>\n",
       "      <td>Female</td>\n",
       "      <td>79.0</td>\n",
       "      <td>1</td>\n",
       "      <td>0</td>\n",
       "      <td>Yes</td>\n",
       "      <td>Self-employed</td>\n",
       "      <td>Rural</td>\n",
       "      <td>174.12</td>\n",
       "      <td>24.0</td>\n",
       "      <td>never smoked</td>\n",
       "      <td>1</td>\n",
       "    </tr>\n",
       "  </tbody>\n",
       "</table>\n",
       "</div>"
      ],
      "text/plain": [
       "      id  gender   age  hypertension  heart_disease ever_married  \\\n",
       "0   9046    Male  67.0             0              1          Yes   \n",
       "1  51676  Female  61.0             0              0          Yes   \n",
       "2  31112    Male  80.0             0              1          Yes   \n",
       "3  60182  Female  49.0             0              0          Yes   \n",
       "4   1665  Female  79.0             1              0          Yes   \n",
       "\n",
       "       work_type Residence_type  avg_glucose_level   bmi   smoking_status  \\\n",
       "0        Private          Urban             228.69  36.6  formerly smoked   \n",
       "1  Self-employed          Rural             202.21   NaN     never smoked   \n",
       "2        Private          Rural             105.92  32.5     never smoked   \n",
       "3        Private          Urban             171.23  34.4           smokes   \n",
       "4  Self-employed          Rural             174.12  24.0     never smoked   \n",
       "\n",
       "   stroke  \n",
       "0       1  \n",
       "1       1  \n",
       "2       1  \n",
       "3       1  \n",
       "4       1  "
      ]
     },
     "execution_count": 5,
     "metadata": {},
     "output_type": "execute_result"
    }
   ],
   "source": [
    "# original data\n",
    "healthInfo.head()"
   ]
  },
  {
   "cell_type": "markdown",
   "metadata": {
    "id": "WRnXcS1IoMNr"
   },
   "source": [
    "# Data cleaning & Visualization"
   ]
  },
  {
   "cell_type": "code",
   "execution_count": 6,
   "metadata": {
    "colab": {
     "base_uri": "https://localhost:8080/",
     "height": 202
    },
    "executionInfo": {
     "elapsed": 4609,
     "status": "ok",
     "timestamp": 1617537587557,
     "user": {
      "displayName": "ChiaTse Kuo",
      "photoUrl": "https://lh4.googleusercontent.com/-cGz4YbBU-wg/AAAAAAAAAAI/AAAAAAAACWo/rlsiD25gLug/s64/photo.jpg",
      "userId": "05542254067765630438"
     },
     "user_tz": -480
    },
    "id": "I_L2StMZ6iXN",
    "outputId": "f47bad5c-c1f3-4395-e0da-6d7499d3b161"
   },
   "outputs": [
    {
     "data": {
      "text/html": [
       "<div>\n",
       "<style scoped>\n",
       "    .dataframe tbody tr th:only-of-type {\n",
       "        vertical-align: middle;\n",
       "    }\n",
       "\n",
       "    .dataframe tbody tr th {\n",
       "        vertical-align: top;\n",
       "    }\n",
       "\n",
       "    .dataframe thead th {\n",
       "        text-align: right;\n",
       "    }\n",
       "</style>\n",
       "<table border=\"1\" class=\"dataframe\">\n",
       "  <thead>\n",
       "    <tr style=\"text-align: right;\">\n",
       "      <th></th>\n",
       "      <th>gender</th>\n",
       "      <th>age</th>\n",
       "      <th>hypertension</th>\n",
       "      <th>heart_disease</th>\n",
       "      <th>ever_married</th>\n",
       "      <th>work_type</th>\n",
       "      <th>Residence_type</th>\n",
       "      <th>avg_glucose_level</th>\n",
       "      <th>bmi</th>\n",
       "      <th>smoking_status</th>\n",
       "      <th>stroke</th>\n",
       "    </tr>\n",
       "  </thead>\n",
       "  <tbody>\n",
       "    <tr>\n",
       "      <th>0</th>\n",
       "      <td>Male</td>\n",
       "      <td>67.0</td>\n",
       "      <td>0</td>\n",
       "      <td>1</td>\n",
       "      <td>Yes</td>\n",
       "      <td>Private</td>\n",
       "      <td>Urban</td>\n",
       "      <td>228.69</td>\n",
       "      <td>36.6</td>\n",
       "      <td>formerly smoked</td>\n",
       "      <td>1</td>\n",
       "    </tr>\n",
       "    <tr>\n",
       "      <th>1</th>\n",
       "      <td>Female</td>\n",
       "      <td>61.0</td>\n",
       "      <td>0</td>\n",
       "      <td>0</td>\n",
       "      <td>Yes</td>\n",
       "      <td>Self-employed</td>\n",
       "      <td>Rural</td>\n",
       "      <td>202.21</td>\n",
       "      <td>NaN</td>\n",
       "      <td>never smoked</td>\n",
       "      <td>1</td>\n",
       "    </tr>\n",
       "    <tr>\n",
       "      <th>2</th>\n",
       "      <td>Male</td>\n",
       "      <td>80.0</td>\n",
       "      <td>0</td>\n",
       "      <td>1</td>\n",
       "      <td>Yes</td>\n",
       "      <td>Private</td>\n",
       "      <td>Rural</td>\n",
       "      <td>105.92</td>\n",
       "      <td>32.5</td>\n",
       "      <td>never smoked</td>\n",
       "      <td>1</td>\n",
       "    </tr>\n",
       "    <tr>\n",
       "      <th>3</th>\n",
       "      <td>Female</td>\n",
       "      <td>49.0</td>\n",
       "      <td>0</td>\n",
       "      <td>0</td>\n",
       "      <td>Yes</td>\n",
       "      <td>Private</td>\n",
       "      <td>Urban</td>\n",
       "      <td>171.23</td>\n",
       "      <td>34.4</td>\n",
       "      <td>smokes</td>\n",
       "      <td>1</td>\n",
       "    </tr>\n",
       "    <tr>\n",
       "      <th>4</th>\n",
       "      <td>Female</td>\n",
       "      <td>79.0</td>\n",
       "      <td>1</td>\n",
       "      <td>0</td>\n",
       "      <td>Yes</td>\n",
       "      <td>Self-employed</td>\n",
       "      <td>Rural</td>\n",
       "      <td>174.12</td>\n",
       "      <td>24.0</td>\n",
       "      <td>never smoked</td>\n",
       "      <td>1</td>\n",
       "    </tr>\n",
       "  </tbody>\n",
       "</table>\n",
       "</div>"
      ],
      "text/plain": [
       "   gender   age  hypertension  heart_disease ever_married      work_type  \\\n",
       "0    Male  67.0             0              1          Yes        Private   \n",
       "1  Female  61.0             0              0          Yes  Self-employed   \n",
       "2    Male  80.0             0              1          Yes        Private   \n",
       "3  Female  49.0             0              0          Yes        Private   \n",
       "4  Female  79.0             1              0          Yes  Self-employed   \n",
       "\n",
       "  Residence_type  avg_glucose_level   bmi   smoking_status  stroke  \n",
       "0          Urban             228.69  36.6  formerly smoked       1  \n",
       "1          Rural             202.21   NaN     never smoked       1  \n",
       "2          Rural             105.92  32.5     never smoked       1  \n",
       "3          Urban             171.23  34.4           smokes       1  \n",
       "4          Rural             174.12  24.0     never smoked       1  "
      ]
     },
     "execution_count": 6,
     "metadata": {},
     "output_type": "execute_result"
    }
   ],
   "source": [
    "# drop ID column\n",
    "healthInfo.drop('id', axis = 1, inplace=True)\n",
    "healthInfo.head()"
   ]
  },
  {
   "cell_type": "code",
   "execution_count": 7,
   "metadata": {
    "colab": {
     "base_uri": "https://localhost:8080/",
     "height": 684
    },
    "executionInfo": {
     "elapsed": 6051,
     "status": "ok",
     "timestamp": 1617537589003,
     "user": {
      "displayName": "ChiaTse Kuo",
      "photoUrl": "https://lh4.googleusercontent.com/-cGz4YbBU-wg/AAAAAAAAAAI/AAAAAAAACWo/rlsiD25gLug/s64/photo.jpg",
      "userId": "05542254067765630438"
     },
     "user_tz": -480
    },
    "id": "I57grzXD61Gj",
    "outputId": "eae883fe-0f6f-4909-87e8-c01e39c3ba98"
   },
   "outputs": [
    {
     "data": {
      "text/plain": [
       "<AxesSubplot:>"
      ]
     },
     "execution_count": 7,
     "metadata": {},
     "output_type": "execute_result"
    },
    {
     "data": {
      "image/png": "[encoded data removed]",
      "text/plain": [
       "<Figure size 1728x720 with 3 Axes>"
      ]
     },
     "metadata": {
      "needs_background": "light"
     },
     "output_type": "display_data"
    }
   ],
   "source": [
    "msno.bar(healthInfo)"
   ]
  },
  {
   "cell_type": "code",
   "execution_count": 8,
   "metadata": {
    "colab": {
     "base_uri": "https://localhost:8080/"
    },
    "executionInfo": {
     "elapsed": 6048,
     "status": "ok",
     "timestamp": 1617537589003,
     "user": {
      "displayName": "ChiaTse Kuo",
      "photoUrl": "https://lh4.googleusercontent.com/-cGz4YbBU-wg/AAAAAAAAAAI/AAAAAAAACWo/rlsiD25gLug/s64/photo.jpg",
      "userId": "05542254067765630438"
     },
     "user_tz": -480
    },
    "id": "w-FYKFv_7MlH",
    "outputId": "90e21338-5ed9-41c5-812e-7af561904a94"
   },
   "outputs": [
    {
     "data": {
      "text/plain": [
       "gender                 0\n",
       "age                    0\n",
       "hypertension           0\n",
       "heart_disease          0\n",
       "ever_married           0\n",
       "work_type              0\n",
       "Residence_type         0\n",
       "avg_glucose_level      0\n",
       "bmi                  201\n",
       "smoking_status         0\n",
       "stroke                 0\n",
       "dtype: int64"
      ]
     },
     "execution_count": 8,
     "metadata": {},
     "output_type": "execute_result"
    }
   ],
   "source": [
    "# found 201 N/A in bmi column\n",
    "healthInfo.isnull().sum()"
   ]
  },
  {
   "cell_type": "code",
   "execution_count": 9,
   "metadata": {
    "colab": {
     "base_uri": "https://localhost:8080/"
    },
    "executionInfo": {
     "elapsed": 6045,
     "status": "ok",
     "timestamp": 1617537589004,
     "user": {
      "displayName": "ChiaTse Kuo",
      "photoUrl": "https://lh4.googleusercontent.com/-cGz4YbBU-wg/AAAAAAAAAAI/AAAAAAAACWo/rlsiD25gLug/s64/photo.jpg",
      "userId": "05542254067765630438"
     },
     "user_tz": -480
    },
    "id": "0f3MHL1v7Mij",
    "outputId": "95fafff4-29d3-48f7-813c-7483ba878faf"
   },
   "outputs": [
    {
     "data": {
      "text/plain": [
       "gender               0\n",
       "age                  0\n",
       "hypertension         0\n",
       "heart_disease        0\n",
       "ever_married         0\n",
       "work_type            0\n",
       "Residence_type       0\n",
       "avg_glucose_level    0\n",
       "bmi                  0\n",
       "smoking_status       0\n",
       "stroke               0\n",
       "dtype: int64"
      ]
     },
     "execution_count": 9,
     "metadata": {},
     "output_type": "execute_result"
    }
   ],
   "source": [
    "# fill N/A bmi with its mean\n",
    "healthInfo['bmi'].fillna(healthInfo['bmi'].mean(), inplace=True)\n",
    "healthInfo.isna().sum()"
   ]
  },
  {
   "cell_type": "code",
   "execution_count": 10,
   "metadata": {
    "colab": {
     "base_uri": "https://localhost:8080/"
    },
    "executionInfo": {
     "elapsed": 6042,
     "status": "ok",
     "timestamp": 1617537589004,
     "user": {
      "displayName": "ChiaTse Kuo",
      "photoUrl": "https://lh4.googleusercontent.com/-cGz4YbBU-wg/AAAAAAAAAAI/AAAAAAAACWo/rlsiD25gLug/s64/photo.jpg",
      "userId": "05542254067765630438"
     },
     "user_tz": -480
    },
    "id": "z0UxpKRV7MgQ",
    "outputId": "b3891020-fcdd-4bdd-b16f-8a2760d902d1"
   },
   "outputs": [
    {
     "data": {
      "text/plain": [
       "(5110, 11)"
      ]
     },
     "execution_count": 10,
     "metadata": {},
     "output_type": "execute_result"
    }
   ],
   "source": [
    "healthInfo.shape"
   ]
  },
  {
   "cell_type": "code",
   "execution_count": 11,
   "metadata": {
    "colab": {
     "base_uri": "https://localhost:8080/"
    },
    "executionInfo": {
     "elapsed": 6041,
     "status": "ok",
     "timestamp": 1617537589006,
     "user": {
      "displayName": "ChiaTse Kuo",
      "photoUrl": "https://lh4.googleusercontent.com/-cGz4YbBU-wg/AAAAAAAAAAI/AAAAAAAACWo/rlsiD25gLug/s64/photo.jpg",
      "userId": "05542254067765630438"
     },
     "user_tz": -480
    },
    "id": "LjyCNzp88Afo",
    "outputId": "59b72ffe-0fef-4278-b1a2-54ec4168f646"
   },
   "outputs": [
    {
     "data": {
      "text/plain": [
       "never smoked       1892\n",
       "Unknown            1544\n",
       "formerly smoked     885\n",
       "smokes              789\n",
       "Name: smoking_status, dtype: int64"
      ]
     },
     "execution_count": 11,
     "metadata": {},
     "output_type": "execute_result"
    }
   ],
   "source": [
    "healthInfo['smoking_status'].value_counts()"
   ]
  },
  {
   "cell_type": "code",
   "execution_count": 12,
   "metadata": {
    "colab": {
     "base_uri": "https://localhost:8080/",
     "height": 265
    },
    "executionInfo": {
     "elapsed": 6037,
     "status": "ok",
     "timestamp": 1617537589006,
     "user": {
      "displayName": "ChiaTse Kuo",
      "photoUrl": "https://lh4.googleusercontent.com/-cGz4YbBU-wg/AAAAAAAAAAI/AAAAAAAACWo/rlsiD25gLug/s64/photo.jpg",
      "userId": "05542254067765630438"
     },
     "user_tz": -480
    },
    "id": "m4Ao0cBHHewg",
    "outputId": "6e84c787-aa33-4cd2-be41-1383323a5150"
   },
   "outputs": [
    {
     "data": {
      "image/png": "[encoded data removed]",
      "text/plain": [
       "<Figure size 432x288 with 1 Axes>"
      ]
     },
     "metadata": {
      "needs_background": "light"
     },
     "output_type": "display_data"
    }
   ],
   "source": [
    "plt.hist(healthInfo['smoking_status'])\n",
    "plt.show()"
   ]
  },
  {
   "cell_type": "code",
   "execution_count": 13,
   "metadata": {
    "colab": {
     "base_uri": "https://localhost:8080/",
     "height": 265
    },
    "executionInfo": {
     "elapsed": 6632,
     "status": "ok",
     "timestamp": 1617537589605,
     "user": {
      "displayName": "ChiaTse Kuo",
      "photoUrl": "https://lh4.googleusercontent.com/-cGz4YbBU-wg/AAAAAAAAAAI/AAAAAAAACWo/rlsiD25gLug/s64/photo.jpg",
      "userId": "05542254067765630438"
     },
     "user_tz": -480
    },
    "id": "5bHbN4CU9kJG",
    "outputId": "352df77b-0eff-4628-cdd7-7d91b04dae19"
   },
   "outputs": [
    {
     "data": {
      "image/png": "[encoded data removed]",
      "text/plain": [
       "<Figure size 432x288 with 1 Axes>"
      ]
     },
     "metadata": {
      "needs_background": "light"
     },
     "output_type": "display_data"
    }
   ],
   "source": [
    "plt.hist(healthInfo['gender'])\n",
    "plt.show()"
   ]
  },
  {
   "cell_type": "code",
   "execution_count": 14,
   "metadata": {
    "colab": {
     "base_uri": "https://localhost:8080/"
    },
    "executionInfo": {
     "elapsed": 6628,
     "status": "ok",
     "timestamp": 1617537589605,
     "user": {
      "displayName": "ChiaTse Kuo",
      "photoUrl": "https://lh4.googleusercontent.com/-cGz4YbBU-wg/AAAAAAAAAAI/AAAAAAAACWo/rlsiD25gLug/s64/photo.jpg",
      "userId": "05542254067765630438"
     },
     "user_tz": -480
    },
    "id": "cTf7Vou-9It-",
    "outputId": "b435ffd7-cb3d-4e74-c8b9-2d3608dbe96a"
   },
   "outputs": [
    {
     "data": {
      "text/plain": [
       "Female    2994\n",
       "Male      2115\n",
       "Other        1\n",
       "Name: gender, dtype: int64"
      ]
     },
     "execution_count": 14,
     "metadata": {},
     "output_type": "execute_result"
    }
   ],
   "source": [
    "healthInfo['gender'].value_counts()"
   ]
  },
  {
   "cell_type": "code",
   "execution_count": 15,
   "metadata": {
    "executionInfo": {
     "elapsed": 6625,
     "status": "ok",
     "timestamp": 1617537589605,
     "user": {
      "displayName": "ChiaTse Kuo",
      "photoUrl": "https://lh4.googleusercontent.com/-cGz4YbBU-wg/AAAAAAAAAAI/AAAAAAAACWo/rlsiD25gLug/s64/photo.jpg",
      "userId": "05542254067765630438"
     },
     "user_tz": -480
    },
    "id": "gNZLplBB92G4"
   },
   "outputs": [],
   "source": [
    "# remove the column where gender's value is 'Other'\n",
    "healthInfo = healthInfo[healthInfo['gender'] != \"Other\"]"
   ]
  },
  {
   "cell_type": "code",
   "execution_count": 16,
   "metadata": {
    "colab": {
     "base_uri": "https://localhost:8080/"
    },
    "executionInfo": {
     "elapsed": 6624,
     "status": "ok",
     "timestamp": 1617537589606,
     "user": {
      "displayName": "ChiaTse Kuo",
      "photoUrl": "https://lh4.googleusercontent.com/-cGz4YbBU-wg/AAAAAAAAAAI/AAAAAAAACWo/rlsiD25gLug/s64/photo.jpg",
      "userId": "05542254067765630438"
     },
     "user_tz": -480
    },
    "id": "yi_KbXDa_DIJ",
    "outputId": "9026575b-eb80-4c31-9066-46d43c622d24"
   },
   "outputs": [
    {
     "data": {
      "text/plain": [
       "Female    2994\n",
       "Male      2115\n",
       "Name: gender, dtype: int64"
      ]
     },
     "execution_count": 16,
     "metadata": {},
     "output_type": "execute_result"
    }
   ],
   "source": [
    "healthInfo['gender'].value_counts()"
   ]
  },
  {
   "cell_type": "code",
   "execution_count": 17,
   "metadata": {
    "colab": {
     "base_uri": "https://localhost:8080/",
     "height": 265
    },
    "executionInfo": {
     "elapsed": 6621,
     "status": "ok",
     "timestamp": 1617537589607,
     "user": {
      "displayName": "ChiaTse Kuo",
      "photoUrl": "https://lh4.googleusercontent.com/-cGz4YbBU-wg/AAAAAAAAAAI/AAAAAAAACWo/rlsiD25gLug/s64/photo.jpg",
      "userId": "05542254067765630438"
     },
     "user_tz": -480
    },
    "id": "MPtnBMxAHFem",
    "outputId": "8662b1fc-7c40-4e69-9d91-9b4146b5f87b"
   },
   "outputs": [
    {
     "data": {
      "text/plain": [
       "<AxesSubplot:ylabel='gender'>"
      ]
     },
     "execution_count": 17,
     "metadata": {},
     "output_type": "execute_result"
    },
    {
     "data": {
      "image/png": "[encoded data removed]",
      "text/plain": [
       "<Figure size 432x288 with 1 Axes>"
      ]
     },
     "metadata": {},
     "output_type": "display_data"
    }
   ],
   "source": [
    "healthInfo.gender.value_counts().plot(kind='pie')"
   ]
  },
  {
   "cell_type": "code",
   "execution_count": 18,
   "metadata": {
    "colab": {
     "base_uri": "https://localhost:8080/"
    },
    "executionInfo": {
     "elapsed": 6615,
     "status": "ok",
     "timestamp": 1617537589607,
     "user": {
      "displayName": "ChiaTse Kuo",
      "photoUrl": "https://lh4.googleusercontent.com/-cGz4YbBU-wg/AAAAAAAAAAI/AAAAAAAACWo/rlsiD25gLug/s64/photo.jpg",
      "userId": "05542254067765630438"
     },
     "user_tz": -480
    },
    "id": "cuQrT3hLG8nr",
    "outputId": "10ba74d2-b1a7-43ba-e6c2-1da7e5ae30ed"
   },
   "outputs": [
    {
     "data": {
      "text/plain": [
       "(5109, 11)"
      ]
     },
     "execution_count": 18,
     "metadata": {},
     "output_type": "execute_result"
    }
   ],
   "source": [
    "healthInfo.shape"
   ]
  },
  {
   "cell_type": "code",
   "execution_count": 19,
   "metadata": {
    "colab": {
     "base_uri": "https://localhost:8080/",
     "height": 265
    },
    "executionInfo": {
     "elapsed": 6612,
     "status": "ok",
     "timestamp": 1617537589608,
     "user": {
      "displayName": "ChiaTse Kuo",
      "photoUrl": "https://lh4.googleusercontent.com/-cGz4YbBU-wg/AAAAAAAAAAI/AAAAAAAACWo/rlsiD25gLug/s64/photo.jpg",
      "userId": "05542254067765630438"
     },
     "user_tz": -480
    },
    "id": "GYUH7xLPHogP",
    "outputId": "8957ce2b-544b-464d-90e8-d97feb0067a0"
   },
   "outputs": [
    {
     "data": {
      "image/png": "[encoded data removed]",
      "text/plain": [
       "<Figure size 432x288 with 1 Axes>"
      ]
     },
     "metadata": {
      "needs_background": "light"
     },
     "output_type": "display_data"
    }
   ],
   "source": [
    "healthInfo['age'].plot(kind='kde')\n",
    "plt.show()"
   ]
  },
  {
   "cell_type": "code",
   "execution_count": 20,
   "metadata": {
    "colab": {
     "base_uri": "https://localhost:8080/",
     "height": 415
    },
    "executionInfo": {
     "elapsed": 6609,
     "status": "ok",
     "timestamp": 1617537589608,
     "user": {
      "displayName": "ChiaTse Kuo",
      "photoUrl": "https://lh4.googleusercontent.com/-cGz4YbBU-wg/AAAAAAAAAAI/AAAAAAAACWo/rlsiD25gLug/s64/photo.jpg",
      "userId": "05542254067765630438"
     },
     "user_tz": -480
    },
    "id": "H1I4eNlnIdRb",
    "outputId": "350b7f58-7b26-43c1-fa84-584b7c201c49"
   },
   "outputs": [
    {
     "data": {
      "text/html": [
       "<div>\n",
       "<style scoped>\n",
       "    .dataframe tbody tr th:only-of-type {\n",
       "        vertical-align: middle;\n",
       "    }\n",
       "\n",
       "    .dataframe tbody tr th {\n",
       "        vertical-align: top;\n",
       "    }\n",
       "\n",
       "    .dataframe thead th {\n",
       "        text-align: right;\n",
       "    }\n",
       "</style>\n",
       "<table border=\"1\" class=\"dataframe\">\n",
       "  <thead>\n",
       "    <tr style=\"text-align: right;\">\n",
       "      <th></th>\n",
       "      <th>gender</th>\n",
       "      <th>ever_married</th>\n",
       "      <th>work_type</th>\n",
       "      <th>Residence_type</th>\n",
       "      <th>smoking_status</th>\n",
       "    </tr>\n",
       "  </thead>\n",
       "  <tbody>\n",
       "    <tr>\n",
       "      <th>0</th>\n",
       "      <td>Male</td>\n",
       "      <td>Yes</td>\n",
       "      <td>Private</td>\n",
       "      <td>Urban</td>\n",
       "      <td>formerly smoked</td>\n",
       "    </tr>\n",
       "    <tr>\n",
       "      <th>1</th>\n",
       "      <td>Female</td>\n",
       "      <td>Yes</td>\n",
       "      <td>Self-employed</td>\n",
       "      <td>Rural</td>\n",
       "      <td>never smoked</td>\n",
       "    </tr>\n",
       "    <tr>\n",
       "      <th>2</th>\n",
       "      <td>Male</td>\n",
       "      <td>Yes</td>\n",
       "      <td>Private</td>\n",
       "      <td>Rural</td>\n",
       "      <td>never smoked</td>\n",
       "    </tr>\n",
       "    <tr>\n",
       "      <th>3</th>\n",
       "      <td>Female</td>\n",
       "      <td>Yes</td>\n",
       "      <td>Private</td>\n",
       "      <td>Urban</td>\n",
       "      <td>smokes</td>\n",
       "    </tr>\n",
       "    <tr>\n",
       "      <th>4</th>\n",
       "      <td>Female</td>\n",
       "      <td>Yes</td>\n",
       "      <td>Self-employed</td>\n",
       "      <td>Rural</td>\n",
       "      <td>never smoked</td>\n",
       "    </tr>\n",
       "    <tr>\n",
       "      <th>...</th>\n",
       "      <td>...</td>\n",
       "      <td>...</td>\n",
       "      <td>...</td>\n",
       "      <td>...</td>\n",
       "      <td>...</td>\n",
       "    </tr>\n",
       "    <tr>\n",
       "      <th>5105</th>\n",
       "      <td>Female</td>\n",
       "      <td>Yes</td>\n",
       "      <td>Private</td>\n",
       "      <td>Urban</td>\n",
       "      <td>never smoked</td>\n",
       "    </tr>\n",
       "    <tr>\n",
       "      <th>5106</th>\n",
       "      <td>Female</td>\n",
       "      <td>Yes</td>\n",
       "      <td>Self-employed</td>\n",
       "      <td>Urban</td>\n",
       "      <td>never smoked</td>\n",
       "    </tr>\n",
       "    <tr>\n",
       "      <th>5107</th>\n",
       "      <td>Female</td>\n",
       "      <td>Yes</td>\n",
       "      <td>Self-employed</td>\n",
       "      <td>Rural</td>\n",
       "      <td>never smoked</td>\n",
       "    </tr>\n",
       "    <tr>\n",
       "      <th>5108</th>\n",
       "      <td>Male</td>\n",
       "      <td>Yes</td>\n",
       "      <td>Private</td>\n",
       "      <td>Rural</td>\n",
       "      <td>formerly smoked</td>\n",
       "    </tr>\n",
       "    <tr>\n",
       "      <th>5109</th>\n",
       "      <td>Female</td>\n",
       "      <td>Yes</td>\n",
       "      <td>Govt_job</td>\n",
       "      <td>Urban</td>\n",
       "      <td>Unknown</td>\n",
       "    </tr>\n",
       "  </tbody>\n",
       "</table>\n",
       "<p>5109 rows × 5 columns</p>\n",
       "</div>"
      ],
      "text/plain": [
       "      gender ever_married      work_type Residence_type   smoking_status\n",
       "0       Male          Yes        Private          Urban  formerly smoked\n",
       "1     Female          Yes  Self-employed          Rural     never smoked\n",
       "2       Male          Yes        Private          Rural     never smoked\n",
       "3     Female          Yes        Private          Urban           smokes\n",
       "4     Female          Yes  Self-employed          Rural     never smoked\n",
       "...      ...          ...            ...            ...              ...\n",
       "5105  Female          Yes        Private          Urban     never smoked\n",
       "5106  Female          Yes  Self-employed          Urban     never smoked\n",
       "5107  Female          Yes  Self-employed          Rural     never smoked\n",
       "5108    Male          Yes        Private          Rural  formerly smoked\n",
       "5109  Female          Yes       Govt_job          Urban          Unknown\n",
       "\n",
       "[5109 rows x 5 columns]"
      ]
     },
     "execution_count": 20,
     "metadata": {},
     "output_type": "execute_result"
    }
   ],
   "source": [
    "# seperate columns with values of integers and strings\n",
    "df_object = healthInfo.select_dtypes(include=\"object\")\n",
    "df_number = healthInfo.select_dtypes(exclude=\"object\")\n",
    "\n",
    "df_object"
   ]
  },
  {
   "cell_type": "code",
   "execution_count": 21,
   "metadata": {
    "colab": {
     "base_uri": "https://localhost:8080/",
     "height": 415
    },
    "executionInfo": {
     "elapsed": 6993,
     "status": "ok",
     "timestamp": 1617537589997,
     "user": {
      "displayName": "ChiaTse Kuo",
      "photoUrl": "https://lh4.googleusercontent.com/-cGz4YbBU-wg/AAAAAAAAAAI/AAAAAAAACWo/rlsiD25gLug/s64/photo.jpg",
      "userId": "05542254067765630438"
     },
     "user_tz": -480
    },
    "id": "IfWbkklcI--x",
    "outputId": "5973c4fe-6d25-40ca-ba56-8ab94ae8c612",
    "scrolled": true
   },
   "outputs": [
    {
     "data": {
      "text/html": [
       "<div>\n",
       "<style scoped>\n",
       "    .dataframe tbody tr th:only-of-type {\n",
       "        vertical-align: middle;\n",
       "    }\n",
       "\n",
       "    .dataframe tbody tr th {\n",
       "        vertical-align: top;\n",
       "    }\n",
       "\n",
       "    .dataframe thead th {\n",
       "        text-align: right;\n",
       "    }\n",
       "</style>\n",
       "<table border=\"1\" class=\"dataframe\">\n",
       "  <thead>\n",
       "    <tr style=\"text-align: right;\">\n",
       "      <th></th>\n",
       "      <th>gender</th>\n",
       "      <th>ever_married</th>\n",
       "      <th>work_type</th>\n",
       "      <th>Residence_type</th>\n",
       "      <th>smoking_status</th>\n",
       "      <th>age</th>\n",
       "      <th>hypertension</th>\n",
       "      <th>heart_disease</th>\n",
       "      <th>avg_glucose_level</th>\n",
       "      <th>bmi</th>\n",
       "      <th>stroke</th>\n",
       "    </tr>\n",
       "  </thead>\n",
       "  <tbody>\n",
       "    <tr>\n",
       "      <th>0</th>\n",
       "      <td>1</td>\n",
       "      <td>1</td>\n",
       "      <td>2</td>\n",
       "      <td>1</td>\n",
       "      <td>1</td>\n",
       "      <td>67.0</td>\n",
       "      <td>0</td>\n",
       "      <td>1</td>\n",
       "      <td>228.69</td>\n",
       "      <td>36.600000</td>\n",
       "      <td>1</td>\n",
       "    </tr>\n",
       "    <tr>\n",
       "      <th>1</th>\n",
       "      <td>0</td>\n",
       "      <td>1</td>\n",
       "      <td>3</td>\n",
       "      <td>0</td>\n",
       "      <td>2</td>\n",
       "      <td>61.0</td>\n",
       "      <td>0</td>\n",
       "      <td>0</td>\n",
       "      <td>202.21</td>\n",
       "      <td>28.893237</td>\n",
       "      <td>1</td>\n",
       "    </tr>\n",
       "    <tr>\n",
       "      <th>2</th>\n",
       "      <td>1</td>\n",
       "      <td>1</td>\n",
       "      <td>2</td>\n",
       "      <td>0</td>\n",
       "      <td>2</td>\n",
       "      <td>80.0</td>\n",
       "      <td>0</td>\n",
       "      <td>1</td>\n",
       "      <td>105.92</td>\n",
       "      <td>32.500000</td>\n",
       "      <td>1</td>\n",
       "    </tr>\n",
       "    <tr>\n",
       "      <th>3</th>\n",
       "      <td>0</td>\n",
       "      <td>1</td>\n",
       "      <td>2</td>\n",
       "      <td>1</td>\n",
       "      <td>3</td>\n",
       "      <td>49.0</td>\n",
       "      <td>0</td>\n",
       "      <td>0</td>\n",
       "      <td>171.23</td>\n",
       "      <td>34.400000</td>\n",
       "      <td>1</td>\n",
       "    </tr>\n",
       "    <tr>\n",
       "      <th>4</th>\n",
       "      <td>0</td>\n",
       "      <td>1</td>\n",
       "      <td>3</td>\n",
       "      <td>0</td>\n",
       "      <td>2</td>\n",
       "      <td>79.0</td>\n",
       "      <td>1</td>\n",
       "      <td>0</td>\n",
       "      <td>174.12</td>\n",
       "      <td>24.000000</td>\n",
       "      <td>1</td>\n",
       "    </tr>\n",
       "    <tr>\n",
       "      <th>...</th>\n",
       "      <td>...</td>\n",
       "      <td>...</td>\n",
       "      <td>...</td>\n",
       "      <td>...</td>\n",
       "      <td>...</td>\n",
       "      <td>...</td>\n",
       "      <td>...</td>\n",
       "      <td>...</td>\n",
       "      <td>...</td>\n",
       "      <td>...</td>\n",
       "      <td>...</td>\n",
       "    </tr>\n",
       "    <tr>\n",
       "      <th>5105</th>\n",
       "      <td>0</td>\n",
       "      <td>1</td>\n",
       "      <td>2</td>\n",
       "      <td>1</td>\n",
       "      <td>2</td>\n",
       "      <td>80.0</td>\n",
       "      <td>1</td>\n",
       "      <td>0</td>\n",
       "      <td>83.75</td>\n",
       "      <td>28.893237</td>\n",
       "      <td>0</td>\n",
       "    </tr>\n",
       "    <tr>\n",
       "      <th>5106</th>\n",
       "      <td>0</td>\n",
       "      <td>1</td>\n",
       "      <td>3</td>\n",
       "      <td>1</td>\n",
       "      <td>2</td>\n",
       "      <td>81.0</td>\n",
       "      <td>0</td>\n",
       "      <td>0</td>\n",
       "      <td>125.20</td>\n",
       "      <td>40.000000</td>\n",
       "      <td>0</td>\n",
       "    </tr>\n",
       "    <tr>\n",
       "      <th>5107</th>\n",
       "      <td>0</td>\n",
       "      <td>1</td>\n",
       "      <td>3</td>\n",
       "      <td>0</td>\n",
       "      <td>2</td>\n",
       "      <td>35.0</td>\n",
       "      <td>0</td>\n",
       "      <td>0</td>\n",
       "      <td>82.99</td>\n",
       "      <td>30.600000</td>\n",
       "      <td>0</td>\n",
       "    </tr>\n",
       "    <tr>\n",
       "      <th>5108</th>\n",
       "      <td>1</td>\n",
       "      <td>1</td>\n",
       "      <td>2</td>\n",
       "      <td>0</td>\n",
       "      <td>1</td>\n",
       "      <td>51.0</td>\n",
       "      <td>0</td>\n",
       "      <td>0</td>\n",
       "      <td>166.29</td>\n",
       "      <td>25.600000</td>\n",
       "      <td>0</td>\n",
       "    </tr>\n",
       "    <tr>\n",
       "      <th>5109</th>\n",
       "      <td>0</td>\n",
       "      <td>1</td>\n",
       "      <td>0</td>\n",
       "      <td>1</td>\n",
       "      <td>0</td>\n",
       "      <td>44.0</td>\n",
       "      <td>0</td>\n",
       "      <td>0</td>\n",
       "      <td>85.28</td>\n",
       "      <td>26.200000</td>\n",
       "      <td>0</td>\n",
       "    </tr>\n",
       "  </tbody>\n",
       "</table>\n",
       "<p>5109 rows × 11 columns</p>\n",
       "</div>"
      ],
      "text/plain": [
       "      gender  ever_married  work_type  Residence_type  smoking_status   age  \\\n",
       "0          1             1          2               1               1  67.0   \n",
       "1          0             1          3               0               2  61.0   \n",
       "2          1             1          2               0               2  80.0   \n",
       "3          0             1          2               1               3  49.0   \n",
       "4          0             1          3               0               2  79.0   \n",
       "...      ...           ...        ...             ...             ...   ...   \n",
       "5105       0             1          2               1               2  80.0   \n",
       "5106       0             1          3               1               2  81.0   \n",
       "5107       0             1          3               0               2  35.0   \n",
       "5108       1             1          2               0               1  51.0   \n",
       "5109       0             1          0               1               0  44.0   \n",
       "\n",
       "      hypertension  heart_disease  avg_glucose_level        bmi  stroke  \n",
       "0                0              1             228.69  36.600000       1  \n",
       "1                0              0             202.21  28.893237       1  \n",
       "2                0              1             105.92  32.500000       1  \n",
       "3                0              0             171.23  34.400000       1  \n",
       "4                1              0             174.12  24.000000       1  \n",
       "...            ...            ...                ...        ...     ...  \n",
       "5105             1              0              83.75  28.893237       0  \n",
       "5106             0              0             125.20  40.000000       0  \n",
       "5107             0              0              82.99  30.600000       0  \n",
       "5108             0              0             166.29  25.600000       0  \n",
       "5109             0              0              85.28  26.200000       0  \n",
       "\n",
       "[5109 rows x 11 columns]"
      ]
     },
     "execution_count": 21,
     "metadata": {},
     "output_type": "execute_result"
    }
   ],
   "source": [
    "# replace nominal attributes to numerical ones by encoding\n",
    "# concatenate both types of columns\n",
    "label = LabelEncoder()\n",
    "df_object = df_object.astype(str).apply(label.fit_transform)\n",
    "\n",
    "data = pd.concat([df_object, df_number], axis = 1)\n",
    "data"
   ]
  },
  {
   "cell_type": "code",
   "execution_count": null,
   "metadata": {},
   "outputs": [],
   "source": []
  },
  {
   "cell_type": "code",
   "execution_count": 42,
   "metadata": {},
   "outputs": [],
   "source": [
    "def get_stacked_bar_chart(df, column):\n",
    "    # Get the count of records by column and stroke    \n",
    "    df_pct = df.groupby([column, 'stroke'])['age'].count()\n",
    "    # Create proper DataFrame's format\n",
    "    df_pct = df_pct.unstack()    \n",
    "    return df_pct.plot.bar(stacked=True, figsize=(6,6), width=1);"
   ]
  },
  {
   "cell_type": "code",
   "execution_count": 44,
   "metadata": {},
   "outputs": [],
   "source": [
    "def get_100_percent_stacked_bar_chart(df, column, width = 0.5):\n",
    "    # Get the count of records by column and stroke\n",
    "    df_breakdown = df.groupby([column, 'stroke'])['age'].count()\n",
    "    # Get the count of records by gender\n",
    "    df_total = df.groupby([column])['age'].count()\n",
    "    # Get the percentage for 100% stacked bar chart\n",
    "    df_pct = df_breakdown / df_total * 100\n",
    "    # Create proper DataFrame's format\n",
    "    df_pct = df_pct.unstack()\n",
    "    return df_pct.plot.bar(stacked=True, figsize=(6,6), width=width);"
   ]
  },
  {
   "cell_type": "code",
   "execution_count": 53,
   "metadata": {},
   "outputs": [],
   "source": [
    "data['age_binned'] = pd.cut(data['age'], np.arange(0, 95, 5))"
   ]
  },
  {
   "cell_type": "code",
   "execution_count": 54,
   "metadata": {},
   "outputs": [
    {
     "data": {
      "text/plain": [
       "<AxesSubplot:xlabel='age_binned'>"
      ]
     },
     "execution_count": 54,
     "metadata": {},
     "output_type": "execute_result"
    },
    {
     "data": {
      "image/png": "[encoded data removed]",
      "text/plain": [
       "<Figure size 432x432 with 1 Axes>"
      ]
     },
     "metadata": {
      "needs_background": "light"
     },
     "output_type": "display_data"
    },
    {
     "data": {
      "image/png": "[encoded data removed]",
      "text/plain": [
       "<Figure size 432x432 with 1 Axes>"
      ]
     },
     "metadata": {
      "needs_background": "light"
     },
     "output_type": "display_data"
    }
   ],
   "source": [
    "get_stacked_bar_chart(data, 'age_binned')\n",
    "get_100_percent_stacked_bar_chart(data, 'age_binned', width = 0.5)"
   ]
  },
  {
   "cell_type": "code",
   "execution_count": null,
   "metadata": {},
   "outputs": [],
   "source": []
  },
  {
   "cell_type": "code",
   "execution_count": null,
   "metadata": {},
   "outputs": [],
   "source": []
  },
  {
   "cell_type": "code",
   "execution_count": null,
   "metadata": {},
   "outputs": [],
   "source": []
  },
  {
   "cell_type": "code",
   "execution_count": 22,
   "metadata": {
    "executionInfo": {
     "elapsed": 6990,
     "status": "ok",
     "timestamp": 1617537589997,
     "user": {
      "displayName": "ChiaTse Kuo",
      "photoUrl": "https://lh4.googleusercontent.com/-cGz4YbBU-wg/AAAAAAAAAAI/AAAAAAAACWo/rlsiD25gLug/s64/photo.jpg",
      "userId": "05542254067765630438"
     },
     "user_tz": -480
    },
    "id": "r1-Miw1cJUzU"
   },
   "outputs": [],
   "source": [
    "# seperate attributes and ground truth\n",
    "X = data.drop(['stroke'],axis = 1)\n",
    "y = data.stroke"
   ]
  },
  {
   "cell_type": "code",
   "execution_count": 23,
   "metadata": {
    "colab": {
     "base_uri": "https://localhost:8080/"
    },
    "executionInfo": {
     "elapsed": 6988,
     "status": "ok",
     "timestamp": 1617537589997,
     "user": {
      "displayName": "ChiaTse Kuo",
      "photoUrl": "https://lh4.googleusercontent.com/-cGz4YbBU-wg/AAAAAAAAAAI/AAAAAAAACWo/rlsiD25gLug/s64/photo.jpg",
      "userId": "05542254067765630438"
     },
     "user_tz": -480
    },
    "id": "EbrFu2ZcMKle",
    "outputId": "f42b4119-2bdc-4c22-d76d-b09b83bd58db"
   },
   "outputs": [
    {
     "data": {
      "text/plain": [
       "array([[ 1.18979109e+00,  7.23678181e-01, -1.53851772e-01, ...,\n",
       "         4.18459909e+00,  2.70644995e+00,  1.00104066e+00],\n",
       "       [-8.40483686e-01,  7.23678181e-01,  7.63334580e-01, ...,\n",
       "        -2.38971519e-01,  2.12165168e+00, -1.65111256e-04],\n",
       "       [ 1.18979109e+00,  7.23678181e-01, -1.53851772e-01, ...,\n",
       "         4.18459909e+00, -4.86741416e-03,  4.68398925e-01],\n",
       "       ...,\n",
       "       [-8.40483686e-01,  7.23678181e-01,  7.63334580e-01, ...,\n",
       "        -2.38971519e-01, -5.11265616e-01,  2.21564950e-01],\n",
       "       [ 1.18979109e+00,  7.23678181e-01, -1.53851772e-01, ...,\n",
       "        -2.38971519e-01,  1.32837547e+00, -4.27998141e-01],\n",
       "       [-8.40483686e-01,  7.23678181e-01, -1.98822448e+00, ...,\n",
       "        -2.38971519e-01, -4.60692049e-01, -3.50050570e-01]])"
      ]
     },
     "execution_count": 23,
     "metadata": {},
     "output_type": "execute_result"
    }
   ],
   "source": [
    "# Standardize features by removing the mean and scaling to unit variance\n",
    "from sklearn.preprocessing import StandardScaler\n",
    "scaler = StandardScaler()\n",
    "X = scaler.fit_transform(X)\n",
    "X "
   ]
  },
  {
   "cell_type": "code",
   "execution_count": 24,
   "metadata": {
    "colab": {
     "base_uri": "https://localhost:8080/"
    },
    "executionInfo": {
     "elapsed": 6986,
     "status": "ok",
     "timestamp": 1617537589998,
     "user": {
      "displayName": "ChiaTse Kuo",
      "photoUrl": "https://lh4.googleusercontent.com/-cGz4YbBU-wg/AAAAAAAAAAI/AAAAAAAACWo/rlsiD25gLug/s64/photo.jpg",
      "userId": "05542254067765630438"
     },
     "user_tz": -480
    },
    "id": "Wm0j31PhJjet",
    "outputId": "a12b57fa-c1fe-4575-f645-ca170782274d",
    "scrolled": true
   },
   "outputs": [
    {
     "name": "stdout",
     "output_type": "stream",
     "text": [
      "X_train shape is  (4087, 10)\n",
      "X_test shape is  (1022, 10)\n",
      "y_train shape is  (4087,)\n",
      "y_test shape is  (1022,)\n"
     ]
    }
   ],
   "source": [
    "X_train, X_test, y_train, y_test = train_test_split(X, y, test_size=0.20, random_state=66, shuffle =True)\n",
    "\n",
    "#Splitted Data\n",
    "print('X_train shape is ' , X_train.shape)\n",
    "print('X_test shape is ' , X_test.shape)\n",
    "print('y_train shape is ' , y_train.shape)\n",
    "print('y_test shape is ' , y_test.shape)"
   ]
  },
  {
   "cell_type": "code",
   "execution_count": null,
   "metadata": {},
   "outputs": [],
   "source": []
  },
  {
   "cell_type": "code",
   "execution_count": null,
   "metadata": {},
   "outputs": [],
   "source": []
  },
  {
   "cell_type": "markdown",
   "metadata": {
    "id": "NAa07zoIqQT2"
   },
   "source": [
    "# Training"
   ]
  },
  {
   "cell_type": "markdown",
   "metadata": {
    "id": "4dKjN_XuqSw5"
   },
   "source": [
    "## Logistic Regression"
   ]
  },
  {
   "cell_type": "code",
   "execution_count": 25,
   "metadata": {
    "colab": {
     "base_uri": "https://localhost:8080/"
    },
    "executionInfo": {
     "elapsed": 6983,
     "status": "ok",
     "timestamp": 1617537589998,
     "user": {
      "displayName": "ChiaTse Kuo",
      "photoUrl": "https://lh4.googleusercontent.com/-cGz4YbBU-wg/AAAAAAAAAAI/AAAAAAAACWo/rlsiD25gLug/s64/photo.jpg",
      "userId": "05542254067765630438"
     },
     "user_tz": -480
    },
    "id": "xXTIr_N0K_nc",
    "outputId": "a05b5f5b-fc8d-4836-a254-db120120d504"
   },
   "outputs": [
    {
     "data": {
      "text/plain": [
       "LogisticRegression(random_state=0)"
      ]
     },
     "execution_count": 25,
     "metadata": {},
     "output_type": "execute_result"
    }
   ],
   "source": [
    "from sklearn.linear_model import LogisticRegression\n",
    "lr = LogisticRegression(random_state=0)\n",
    "lr.fit(X_train, y_train)"
   ]
  },
  {
   "cell_type": "code",
   "execution_count": 34,
   "metadata": {
    "colab": {
     "base_uri": "https://localhost:8080/"
    },
    "executionInfo": {
     "elapsed": 6979,
     "status": "ok",
     "timestamp": 1617537589998,
     "user": {
      "displayName": "ChiaTse Kuo",
      "photoUrl": "https://lh4.googleusercontent.com/-cGz4YbBU-wg/AAAAAAAAAAI/AAAAAAAACWo/rlsiD25gLug/s64/photo.jpg",
      "userId": "05542254067765630438"
     },
     "user_tz": -480
    },
    "id": "OQIpHWmxMxmZ",
    "outputId": "a465cd61-8b6f-4004-e15e-dbe01f87ef3e"
   },
   "outputs": [
    {
     "data": {
      "text/plain": [
       "0.9500978473581213"
      ]
     },
     "execution_count": 34,
     "metadata": {},
     "output_type": "execute_result"
    }
   ],
   "source": [
    "lr.score(X_test, y_test)"
   ]
  },
  {
   "cell_type": "markdown",
   "metadata": {
    "id": "L2_h8-8wqWR1"
   },
   "source": [
    "## Gaussian Naive Bayes"
   ]
  },
  {
   "cell_type": "code",
   "execution_count": 27,
   "metadata": {
    "colab": {
     "base_uri": "https://localhost:8080/"
    },
    "executionInfo": {
     "elapsed": 6976,
     "status": "ok",
     "timestamp": 1617537589999,
     "user": {
      "displayName": "ChiaTse Kuo",
      "photoUrl": "https://lh4.googleusercontent.com/-cGz4YbBU-wg/AAAAAAAAAAI/AAAAAAAACWo/rlsiD25gLug/s64/photo.jpg",
      "userId": "05542254067765630438"
     },
     "user_tz": -480
    },
    "id": "aHaZ7F0BJ7SC",
    "outputId": "9b9b2526-4d21-4b81-9afa-e87ec08fb54c"
   },
   "outputs": [
    {
     "data": {
      "text/plain": [
       "0.8825831702544031"
      ]
     },
     "execution_count": 27,
     "metadata": {},
     "output_type": "execute_result"
    }
   ],
   "source": [
    "from sklearn.naive_bayes import GaussianNB\n",
    "gnb = GaussianNB()\n",
    "gnb.fit(X_train, y_train)\n",
    "gnb.score(X_test, y_test)"
   ]
  },
  {
   "cell_type": "markdown",
   "metadata": {
    "id": "_ipCzPGNqb76"
   },
   "source": [
    "## K nearest neighbors"
   ]
  },
  {
   "cell_type": "code",
   "execution_count": 28,
   "metadata": {
    "colab": {
     "base_uri": "https://localhost:8080/"
    },
    "executionInfo": {
     "elapsed": 6973,
     "status": "ok",
     "timestamp": 1617537589999,
     "user": {
      "displayName": "ChiaTse Kuo",
      "photoUrl": "https://lh4.googleusercontent.com/-cGz4YbBU-wg/AAAAAAAAAAI/AAAAAAAACWo/rlsiD25gLug/s64/photo.jpg",
      "userId": "05542254067765630438"
     },
     "user_tz": -480
    },
    "id": "V-MLpA2bNpJx",
    "outputId": "dbc93020-9588-46e7-d047-81a86c7cb400"
   },
   "outputs": [
    {
     "data": {
      "text/plain": [
       "0.913894324853229"
      ]
     },
     "execution_count": 28,
     "metadata": {},
     "output_type": "execute_result"
    }
   ],
   "source": [
    "from sklearn.neighbors import KNeighborsClassifier\n",
    "knn = KNeighborsClassifier(n_neighbors=1)\n",
    "knn.fit(X_train, y_train)\n",
    "knn.score(X_test, y_test)"
   ]
  },
  {
   "cell_type": "code",
   "execution_count": 29,
   "metadata": {
    "colab": {
     "base_uri": "https://localhost:8080/"
    },
    "executionInfo": {
     "elapsed": 6970,
     "status": "ok",
     "timestamp": 1617537589999,
     "user": {
      "displayName": "ChiaTse Kuo",
      "photoUrl": "https://lh4.googleusercontent.com/-cGz4YbBU-wg/AAAAAAAAAAI/AAAAAAAACWo/rlsiD25gLug/s64/photo.jpg",
      "userId": "05542254067765630438"
     },
     "user_tz": -480
    },
    "id": "VqFhZBEOOB-m",
    "outputId": "28551e34-0d4b-4f92-b691-40b98ca715e0"
   },
   "outputs": [
    {
     "data": {
      "text/plain": [
       "0.9432485322896281"
      ]
     },
     "execution_count": 29,
     "metadata": {},
     "output_type": "execute_result"
    }
   ],
   "source": [
    "knn = KNeighborsClassifier(n_neighbors=3)\n",
    "knn.fit(X_train, y_train)\n",
    "knn.score(X_test, y_test)"
   ]
  },
  {
   "cell_type": "code",
   "execution_count": 30,
   "metadata": {
    "colab": {
     "base_uri": "https://localhost:8080/"
    },
    "executionInfo": {
     "elapsed": 6968,
     "status": "ok",
     "timestamp": 1617537590000,
     "user": {
      "displayName": "ChiaTse Kuo",
      "photoUrl": "https://lh4.googleusercontent.com/-cGz4YbBU-wg/AAAAAAAAAAI/AAAAAAAACWo/rlsiD25gLug/s64/photo.jpg",
      "userId": "05542254067765630438"
     },
     "user_tz": -480
    },
    "id": "BAfFjri6ODuL",
    "outputId": "0206b4c6-d617-4f3c-d8d0-84e4464a7ded"
   },
   "outputs": [
    {
     "data": {
      "text/plain": [
       "0.9500978473581213"
      ]
     },
     "execution_count": 30,
     "metadata": {},
     "output_type": "execute_result"
    }
   ],
   "source": [
    "knn = KNeighborsClassifier(n_neighbors=5)\n",
    "knn.fit(X_train, y_train)\n",
    "knn.score(X_test, y_test)"
   ]
  },
  {
   "cell_type": "code",
   "execution_count": 65,
   "metadata": {},
   "outputs": [
    {
     "name": "stdout",
     "output_type": "stream",
     "text": [
      "{'n_neighbors': 8}\n"
     ]
    }
   ],
   "source": [
    "paramgrid = {'n_neighbors': [1,2,3,4,5,6,7,8,9,10,11]}#test a number of items\n",
    "clf = model_selection.GridSearchCV(neighbors.KNeighborsClassifier(), param_grid=paramgrid, cv=10, n_jobs=-1)\n",
    "\n",
    "clf.fit(X_train,y_train)#select the best paramater for train data\n",
    "print(clf.best_params_)"
   ]
  },
  {
   "cell_type": "code",
   "execution_count": 66,
   "metadata": {},
   "outputs": [
    {
     "name": "stdout",
     "output_type": "stream",
     "text": [
      "train_acc 0.9515537068754588\n",
      "test_acc 0.9500978473581213\n"
     ]
    }
   ],
   "source": [
    "neighbors_model = neighbors.KNeighborsClassifier(n_neighbors = clf.best_params_[\"n_neighbors\"])\n",
    "neighbors_model.fit(X_train,y_train)\n",
    "print(\"train_acc\",neighbors_model.score(X_train,y_train))\n",
    "print(\"test_acc\",neighbors_model.score(X_test,y_test))"
   ]
  },
  {
   "cell_type": "markdown",
   "metadata": {
    "id": "l0G89eDqqqH6"
   },
   "source": [
    "## Genetic Algorithm"
   ]
  },
  {
   "cell_type": "code",
   "execution_count": 31,
   "metadata": {
    "executionInfo": {
     "elapsed": 6964,
     "status": "ok",
     "timestamp": 1617537590000,
     "user": {
      "displayName": "ChiaTse Kuo",
      "photoUrl": "https://lh4.googleusercontent.com/-cGz4YbBU-wg/AAAAAAAAAAI/AAAAAAAACWo/rlsiD25gLug/s64/photo.jpg",
      "userId": "05542254067765630438"
     },
     "user_tz": -480
    },
    "id": "lCC3AgAxquSX"
   },
   "outputs": [],
   "source": [
    "import random\n",
    "import logging\n",
    "import pandas as pd\n",
    "import numpy as np\n",
    "from sklearn.metrics import accuracy_score\n",
    "from keras.models import Sequential\n",
    "from keras.layers import Dense\n",
    "from keras import optimizers\n",
    "\n",
    "logging.basicConfig(level=logging.DEBUG,\n",
    "                    format='%(asctime)s %(message)s',\n",
    "                    handlers=[logging.FileHandler(\"ann_test.log\"),\n",
    "                              logging.StreamHandler()])\n",
    "\n",
    "class ANN(Sequential):\n",
    "    \n",
    "    def __init__(self, child_weights=None):\n",
    "        super().__init__()\n",
    "\n",
    "        if child_weights is None:\n",
    "            layer1 = Dense(10, input_shape=(10,), activation='sigmoid')\n",
    "            layer2 = Dense(1, activation='sigmoid')\n",
    "            self.add(layer1)\n",
    "            self.add(layer2)\n",
    "        else:\n",
    "            self.add(\n",
    "                Dense(\n",
    "                    10,\n",
    "                    input_shape=(10,),\n",
    "                    activation='sigmoid',\n",
    "                    weights=[child_weights[0], np.ones(10)])\n",
    "                )\n",
    "            self.add(\n",
    "                Dense(\n",
    "                    1,\n",
    "                    activation='sigmoid',\n",
    "                    weights=[child_weights[1], np.zeros(1)])\n",
    "            )\n",
    "\n",
    "    def forward_propagation(self, train_feature, train_label):\n",
    "        predict_label = self.predict(train_feature)\n",
    "        self.fitness = accuracy_score(train_label, predict_label.round())\n",
    "\n",
    "def crossover(nn1, nn2):\n",
    "    \n",
    "    nn1_weights = []\n",
    "    nn2_weights = []\n",
    "    child_weights = []\n",
    "\n",
    "    for layer in nn1.layers:\n",
    "        nn1_weights.append(layer.get_weights()[0])\n",
    "\n",
    "    for layer in nn2.layers:\n",
    "        nn2_weights.append(layer.get_weights()[0])\n",
    "\n",
    "    for i in range(len(nn1_weights)):\n",
    "        # Get single point to split the matrix in parents based on # of cols\n",
    "        split = random.randint(0, np.shape(nn1_weights[i])[1]-1)\n",
    "        # Iterate through after a single point and set the remaing cols to nn_2\n",
    "        for j in range(split, np.shape(nn1_weights[i])[1]-1):\n",
    "            nn1_weights[i][:, j] = nn2_weights[i][:, j]\n",
    "\n",
    "        child_weights.append(nn1_weights[i])\n",
    "\n",
    "    mutation(child_weights)\n",
    "\n",
    "    child = ANN(child_weights)\n",
    "    return child\n",
    "\n",
    "def mutation(child_weights):\n",
    "    selection = random.randint(0, len(child_weights)-1)\n",
    "    mut = random.uniform(0, 1)\n",
    "    if mut <= .05:\n",
    "        child_weights[selection] *= random.randint(2, 5)\n",
    "    else:\n",
    "        pass\n"
   ]
  },
  {
   "cell_type": "code",
   "execution_count": 32,
   "metadata": {
    "scrolled": true
   },
   "outputs": [
    {
     "name": "stderr",
     "output_type": "stream",
     "text": [
      "2021-04-10 20:21:31,167 Generation: 1\n",
      "\n",
      "2021-04-10 20:21:32,869 Max Fitness: 0.9515537068754588\n",
      "\n",
      "2021-04-10 20:21:32,872 optimal_weights: [array([[ 0.12400317, -0.20618796,  0.00180721,  0.07542771, -0.25591207,\n",
      "        -0.26975262,  0.08237427,  0.4030006 ,  0.03656286, -0.18960118],\n",
      "       [-0.45324597,  0.3805666 ,  0.227382  , -0.34065825,  0.11381578,\n",
      "        -0.07763463, -0.3994605 ,  0.5300344 , -0.06591481,  0.4490562 ],\n",
      "       [-0.32291627, -0.36763206,  0.45279646, -0.11574796, -0.492319  ,\n",
      "        -0.11176166, -0.5374094 ,  0.41013545,  0.00632733, -0.4060079 ],\n",
      "       [-0.33931774,  0.20216054, -0.33740985, -0.50749516, -0.38547093,\n",
      "         0.5254979 ,  0.194085  , -0.02787334,  0.1762011 ,  0.5037904 ],\n",
      "       [-0.2836219 ,  0.09740359,  0.03195536,  0.25866932, -0.25255024,\n",
      "         0.5070281 ,  0.4847952 ,  0.51696205,  0.0911448 ,  0.1481601 ],\n",
      "       [-0.06803727, -0.455572  ,  0.23666275,  0.3891595 ,  0.41976994,\n",
      "         0.05627394, -0.09021449,  0.07131487, -0.19590291, -0.31268135],\n",
      "       [ 0.3605199 ,  0.1487838 , -0.16372937,  0.04279459,  0.3615421 ,\n",
      "         0.37083983, -0.24420938, -0.02134645, -0.02320051, -0.09190559],\n",
      "       [-0.25685218,  0.03237832, -0.05357108,  0.49860036, -0.5347674 ,\n",
      "        -0.11039937, -0.49258447, -0.39449334,  0.21212983, -0.30822974],\n",
      "       [-0.26342398, -0.26711383, -0.05739883, -0.16833451,  0.01214343,\n",
      "         0.49418235,  0.38556498, -0.0025022 ,  0.24071091,  0.15157026],\n",
      "       [ 0.43639332, -0.25705445, -0.2576661 , -0.38820648,  0.31011546,\n",
      "        -0.5221707 ,  0.19169384, -0.5110435 , -0.45589352, -0.36435968]],\n",
      "      dtype=float32), array([[ 0.18457806],\n",
      "       [ 0.26499504],\n",
      "       [-0.26743183],\n",
      "       [-0.516199  ],\n",
      "       [-0.5453311 ],\n",
      "       [-0.21428096],\n",
      "       [-0.18812704],\n",
      "       [-0.2674357 ],\n",
      "       [ 0.23574734],\n",
      "       [-0.4348442 ]], dtype=float32)]\n",
      "\n",
      "2021-04-10 20:21:33,060 Generation: 2\n",
      "\n",
      "2021-04-10 20:21:34,224 Generation: 3\n",
      "\n",
      "2021-04-10 20:21:35,386 Generation: 4\n",
      "\n",
      "2021-04-10 20:21:36,624 Generation: 5\n",
      "\n",
      "2021-04-10 20:21:37,795 Generation: 6\n",
      "\n",
      "2021-04-10 20:21:38,994 Generation: 7\n",
      "\n",
      "2021-04-10 20:21:40,179 Generation: 8\n",
      "\n",
      "2021-04-10 20:21:41,430 Generation: 9\n",
      "\n",
      "2021-04-10 20:21:42,611 Generation: 10\n",
      "\n",
      "2021-04-10 20:21:43,766 Generation: 11\n",
      "\n",
      "2021-04-10 20:21:44,928 Generation: 12\n",
      "\n",
      "2021-04-10 20:21:46,195 Generation: 13\n",
      "\n",
      "2021-04-10 20:21:47,354 Generation: 14\n",
      "\n",
      "2021-04-10 20:21:48,514 Generation: 15\n",
      "\n",
      "2021-04-10 20:21:49,663 Generation: 16\n",
      "\n",
      "2021-04-10 20:21:50,818 Generation: 17\n",
      "\n",
      "2021-04-10 20:21:51,975 Generation: 18\n",
      "\n",
      "2021-04-10 20:21:53,294 Generation: 19\n",
      "\n",
      "2021-04-10 20:21:54,450 Generation: 20\n",
      "\n",
      "2021-04-10 20:21:55,658 Generation: 21\n",
      "\n",
      "2021-04-10 20:21:56,865 Generation: 22\n",
      "\n",
      "2021-04-10 20:21:58,054 Generation: 23\n",
      "\n",
      "2021-04-10 20:21:59,219 Generation: 24\n",
      "\n",
      "2021-04-10 20:22:00,592 Generation: 25\n",
      "\n",
      "2021-04-10 20:22:01,790 Generation: 26\n",
      "\n",
      "2021-04-10 20:22:02,942 Generation: 27\n",
      "\n",
      "2021-04-10 20:22:04,097 Generation: 28\n",
      "\n",
      "2021-04-10 20:22:05,242 Generation: 29\n",
      "\n",
      "2021-04-10 20:22:06,224 Max Fitness: 0.9517983851235625\n",
      "\n",
      "2021-04-10 20:22:06,227 optimal_weights: [array([[ 0.12400317,  0.08068907, -0.07652217,  0.91349125, -0.5948839 ,\n",
      "         0.36532617, -1.1830353 ,  1.6567693 ,  0.8912852 , -0.37920237],\n",
      "       [-0.45324597, -0.10609782,  0.48607373, -1.5030127 , -0.49496794,\n",
      "         1.8062847 , -2.1775177 ,  1.701159  , -0.06544042,  0.8981124 ],\n",
      "       [-0.32291627, -0.24026823,  0.54653513, -0.69084096, -1.2857995 ,\n",
      "        -0.2201941 , -1.5359823 , -0.86226964, -1.8368584 , -0.8120158 ],\n",
      "       [-0.33931774, -0.15676895,  0.48852694, -0.08665299,  0.1643467 ,\n",
      "         2.0540938 ,  0.40147853,  1.7965779 , -0.2659608 ,  1.0075808 ],\n",
      "       [-0.2836219 ,  0.2076627 , -0.09871051, -0.62925756,  0.36902595,\n",
      "         1.8335915 ,  1.2503431 ,  1.203202  , -1.3592153 ,  0.2963202 ],\n",
      "       [-0.06803727, -0.14926201,  0.2672299 ,  1.2753949 , -2.029414  ,\n",
      "        -1.3732078 ,  1.080461  , -0.93423784, -0.6086196 , -0.6253627 ],\n",
      "       [ 0.3605199 , -0.19701019, -0.3097661 , -1.6989802 , -0.6604564 ,\n",
      "         1.7377641 ,  1.535028  , -1.1257148 , -0.42533052, -0.18381119],\n",
      "       [-0.25685218, -0.33912578, -0.26579362, -0.8702359 , -1.8780842 ,\n",
      "         1.5279369 ,  0.71485496,  0.8031914 ,  2.0218792 , -0.6164595 ],\n",
      "       [-0.26342398, -0.42419422,  0.02534801,  0.47837615, -0.91575134,\n",
      "        -1.1571926 , -0.9452683 , -0.83762515,  1.6877408 ,  0.30314052],\n",
      "       [ 0.43639332,  0.18731588,  0.1397478 ,  0.02457762,  0.17105365,\n",
      "         0.62784886,  1.7063875 ,  1.9287028 ,  0.57616353, -0.72871935]],\n",
      "      dtype=float32), array([[ 0.18457806],\n",
      "       [ 0.26499504],\n",
      "       [-0.26743183],\n",
      "       [-0.516199  ],\n",
      "       [-0.5453311 ],\n",
      "       [-0.21428096],\n",
      "       [-0.18812704],\n",
      "       [-0.2674357 ],\n",
      "       [ 0.23574734],\n",
      "       [-0.4348442 ]], dtype=float32)]\n",
      "\n",
      "2021-04-10 20:22:06,414 Generation: 30\n",
      "\n",
      "2021-04-10 20:22:07,583 Generation: 31\n",
      "\n",
      "2021-04-10 20:22:08,784 Generation: 32\n",
      "\n",
      "2021-04-10 20:22:10,284 Generation: 33\n",
      "\n",
      "2021-04-10 20:22:11,483 Generation: 34\n",
      "\n",
      "2021-04-10 20:22:12,701 Generation: 35\n",
      "\n",
      "2021-04-10 20:22:13,889 Generation: 36\n",
      "\n",
      "2021-04-10 20:22:15,086 Generation: 37\n",
      "\n",
      "2021-04-10 20:22:16,256 Generation: 38\n",
      "\n",
      "2021-04-10 20:22:17,501 Generation: 39\n",
      "\n",
      "2021-04-10 20:22:18,689 Generation: 40\n",
      "\n",
      "2021-04-10 20:22:19,867 Generation: 41\n",
      "\n",
      "2021-04-10 20:22:21,384 Generation: 42\n",
      "\n",
      "2021-04-10 20:22:22,565 Generation: 43\n",
      "\n",
      "2021-04-10 20:22:23,725 Generation: 44\n",
      "\n",
      "2021-04-10 20:22:24,893 Generation: 45\n",
      "\n",
      "2021-04-10 20:22:26,046 Generation: 46\n",
      "\n",
      "2021-04-10 20:22:27,209 Generation: 47\n",
      "\n",
      "2021-04-10 20:22:28,375 Generation: 48\n",
      "\n",
      "2021-04-10 20:22:29,510 Generation: 49\n",
      "\n",
      "2021-04-10 20:22:30,651 Generation: 50\n",
      "\n",
      "2021-04-10 20:22:31,811 Generation: 51\n",
      "\n",
      "2021-04-10 20:22:33,368 Generation: 52\n",
      "\n",
      "2021-04-10 20:22:34,578 Generation: 53\n",
      "\n",
      "2021-04-10 20:22:35,796 Generation: 54\n",
      "\n",
      "2021-04-10 20:22:37,026 Generation: 55\n",
      "\n",
      "2021-04-10 20:22:38,180 Generation: 56\n",
      "\n",
      "2021-04-10 20:22:39,386 Generation: 57\n",
      "\n",
      "2021-04-10 20:22:40,566 Generation: 58\n",
      "\n",
      "2021-04-10 20:22:41,831 Generation: 59\n",
      "\n",
      "2021-04-10 20:22:43,035 Generation: 60\n",
      "\n",
      "2021-04-10 20:22:44,212 Generation: 61\n",
      "\n",
      "2021-04-10 20:22:45,364 Generation: 62\n",
      "\n",
      "2021-04-10 20:22:47,010 Generation: 63\n",
      "\n",
      "2021-04-10 20:22:48,176 Generation: 64\n",
      "\n",
      "2021-04-10 20:22:49,332 Generation: 65\n",
      "\n",
      "2021-04-10 20:22:50,500 Generation: 66\n",
      "\n",
      "2021-04-10 20:22:51,658 Generation: 67\n",
      "\n",
      "2021-04-10 20:22:52,833 Generation: 68\n",
      "\n",
      "2021-04-10 20:22:53,983 Generation: 69\n",
      "\n",
      "2021-04-10 20:22:55,156 Generation: 70\n",
      "\n",
      "2021-04-10 20:22:56,326 Generation: 71\n",
      "\n",
      "2021-04-10 20:22:57,487 Generation: 72\n",
      "\n",
      "2021-04-10 20:22:58,668 Generation: 73\n",
      "\n",
      "2021-04-10 20:22:59,842 Generation: 74\n",
      "\n",
      "2021-04-10 20:23:01,026 Generation: 75\n",
      "\n",
      "2021-04-10 20:23:02,193 Generation: 76\n",
      "\n",
      "2021-04-10 20:23:03,952 Generation: 77\n",
      "\n",
      "2021-04-10 20:23:05,126 Generation: 78\n",
      "\n",
      "2021-04-10 20:23:06,295 Generation: 79\n",
      "\n",
      "2021-04-10 20:23:07,455 Generation: 80\n",
      "\n",
      "2021-04-10 20:23:08,603 Generation: 81\n",
      "\n",
      "2021-04-10 20:23:09,749 Generation: 82\n",
      "\n",
      "2021-04-10 20:23:10,916 Generation: 83\n",
      "\n",
      "2021-04-10 20:23:12,100 Generation: 84\n",
      "\n",
      "2021-04-10 20:23:13,257 Generation: 85\n",
      "\n",
      "2021-04-10 20:23:14,426 Generation: 86\n",
      "\n",
      "2021-04-10 20:23:15,609 Generation: 87\n",
      "\n",
      "2021-04-10 20:23:16,776 Generation: 88\n",
      "\n",
      "2021-04-10 20:23:17,953 Generation: 89\n",
      "\n",
      "2021-04-10 20:23:19,100 Generation: 90\n",
      "\n",
      "2021-04-10 20:23:20,245 Generation: 91\n",
      "\n",
      "2021-04-10 20:23:21,372 Generation: 92\n",
      "\n",
      "2021-04-10 20:23:23,219 Generation: 93\n",
      "\n",
      "2021-04-10 20:23:24,364 Generation: 94\n",
      "\n",
      "2021-04-10 20:23:25,513 Generation: 95\n",
      "\n",
      "2021-04-10 20:23:26,658 Generation: 96\n",
      "\n",
      "2021-04-10 20:23:27,808 Generation: 97\n",
      "\n",
      "2021-04-10 20:23:28,954 Generation: 98\n",
      "\n",
      "2021-04-10 20:23:30,102 Generation: 99\n",
      "\n",
      "2021-04-10 20:23:31,244 Generation: 100\n",
      "\n"
     ]
    },
    {
     "name": "stdout",
     "output_type": "stream",
     "text": [
      "Test Accuracy: 0.95\n"
     ]
    }
   ],
   "source": [
    "# Preprocess Data\n",
    "\n",
    "# train feature\n",
    "train_feature = X_train\n",
    "# train label\n",
    "train_label = y_train\n",
    "# test feature\n",
    "test_feature = X_test\n",
    "# test label\n",
    "test_label = y_test\n",
    "\n",
    "# store all active ANNs\n",
    "networks = []\n",
    "pool = []\n",
    "# Generation counter\n",
    "generation = 0\n",
    "# Initial Population\n",
    "population = 10\n",
    "for i in range(population):\n",
    "    networks.append(ANN())\n",
    "# Track Max Fitness\n",
    "max_fitness = 0\n",
    "# Store Max Fitness Weights\n",
    "optimal_weights = []\n",
    "\n",
    "epochs = 100\n",
    "# Evolution Loop\n",
    "for i in range(epochs):\n",
    "    generation += 1\n",
    "    logging.debug(\"Generation: \" + str(generation) + \"\\r\\n\")\n",
    "\n",
    "    for ann in networks:\n",
    "        # Propagate to calculate fitness score\n",
    "        ann.forward_propagation(train_feature, train_label)\n",
    "        # Add to pool after calculating fitness\n",
    "        pool.append(ann)\n",
    "\n",
    "    # Clear for propagation of next children\n",
    "    networks.clear()\n",
    "\n",
    "    # Sort anns by fitness\n",
    "    pool = sorted(pool, key=lambda x: x.fitness)\n",
    "    pool.reverse()\n",
    "\n",
    "    # Find Max Fitness and Log Associated Weights\n",
    "    for i in range(len(pool)):\n",
    "        if pool[i].fitness > max_fitness:\n",
    "            max_fitness = pool[i].fitness\n",
    "\n",
    "            logging.debug(\"Max Fitness: \" + str(max_fitness) + \"\\r\\n\")\n",
    "\n",
    "            # Iterate through layers, get weights, and append to optimal\n",
    "            optimal_weights = []\n",
    "            for layer in pool[i].layers:\n",
    "                optimal_weights.append(layer.get_weights()[0])\n",
    "            logging.debug('optimal_weights: ' + str(optimal_weights)+\"\\r\\n\")\n",
    "\n",
    "    # Crossover: top 5 randomly select 2 partners\n",
    "    for i in range(5):\n",
    "        for j in range(2):\n",
    "            # Create a child and add to networks\n",
    "            temp = crossover(pool[i], random.choice(pool))\n",
    "            # Add to networks to calculate fitness score next iteration\n",
    "            networks.append(temp)\n",
    "\n",
    "# Create a Genetic Neural Network with optimal initial weights\n",
    "ann = ANN(optimal_weights)\n",
    "predict_label = ann.predict(test_feature)\n",
    "print('Test Accuracy: %.2f' % accuracy_score(test_label, predict_label.round()))"
   ]
  },
  {
   "cell_type": "code",
   "execution_count": null,
   "metadata": {},
   "outputs": [],
   "source": []
  },
  {
   "cell_type": "code",
   "execution_count": null,
   "metadata": {},
   "outputs": [],
   "source": []
  }
 ],
 "metadata": {
  "colab": {
   "authorship_tag": "ABX9TyN0WOwy4qWpPorS0WzJMHyE",
   "collapsed_sections": [],
   "mount_file_id": "1iz3xlasEzJ2HrpsvGCCnNePLYLPIo6XF",
   "name": "G66_source_code.ipynb",
   "provenance": [],
   "toc_visible": true
  },
  "kernelspec": {
   "display_name": "Python 3",
   "language": "python",
   "name": "python3"
  },
  "language_info": {
   "codemirror_mode": {
    "name": "ipython",
    "version": 3
   },
   "file_extension": ".py",
   "mimetype": "text/x-python",
   "name": "python",
   "nbconvert_exporter": "python",
   "pygments_lexer": "ipython3",
   "version": "3.8.3"
  }
 },
 "nbformat": 4,
 "nbformat_minor": 1
}
